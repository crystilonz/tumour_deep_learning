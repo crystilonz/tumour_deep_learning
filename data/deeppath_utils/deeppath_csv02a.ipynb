{
 "cells": [
  {
   "metadata": {},
   "cell_type": "markdown",
   "source": [
    "# DeepPATH02a\n",
    "\n",
    "This notebook is used for preparing the csv file for sorting the tiles in step `02a` of DeepPath."
   ],
   "id": "7a7dd78420931f00"
  },
  {
   "metadata": {
    "ExecuteTime": {
     "end_time": "2024-11-26T21:24:51.643767Z",
     "start_time": "2024-11-26T21:24:49.953392Z"
    }
   },
   "cell_type": "code",
   "source": [
    "# dependencies\n",
    "from pathlib import Path\n",
    "import pandas as pd"
   ],
   "id": "a5665356b799030f",
   "outputs": [],
   "execution_count": 1
  },
  {
   "metadata": {
    "ExecuteTime": {
     "end_time": "2024-11-26T21:24:51.727319Z",
     "start_time": "2024-11-26T21:24:51.653290Z"
    }
   },
   "cell_type": "code",
   "source": [
    "# Full path to the output csv file\n",
    "csv_path = r'E:\\Project\\External Cohort\\classes.csv'\n",
    "# Full path to the .svs files, will be used in glob\n",
    "glob_dir = r'E:\\Project\\External Cohort\\Images\\Raw'\n",
    "glob_pattern = r'*\\*.svs'\n",
    "svs_paths = list(Path(glob_dir).glob(glob_pattern))\n",
    "svs_paths[0:10]"
   ],
   "id": "9c0d89f8ac71a038",
   "outputs": [
    {
     "data": {
      "text/plain": [
       "[WindowsPath('E:/Project/External Cohort/Images/Raw/CMB-BRCA/CMB-BRCA_MSB-00156_MSB-00156-01-05.svs'),\n",
       " WindowsPath('E:/Project/External Cohort/Images/Raw/CMB-BRCA/CMB-BRCA_MSB-00587_MSB-00587-01-01.svs'),\n",
       " WindowsPath('E:/Project/External Cohort/Images/Raw/CMB-BRCA/CMB-BRCA_MSB-01798_MSB-01798-02-02.svs'),\n",
       " WindowsPath('E:/Project/External Cohort/Images/Raw/CMB-BRCA/CMB-BRCA_MSB-02137_MSB-02137-01-02.svs'),\n",
       " WindowsPath('E:/Project/External Cohort/Images/Raw/CMB-BRCA/CMB-BRCA_MSB-02664_MSB-02664-01-05.svs'),\n",
       " WindowsPath('E:/Project/External Cohort/Images/Raw/CMB-BRCA/CMB-BRCA_MSB-02664_MSB-02664-01-10.svs'),\n",
       " WindowsPath('E:/Project/External Cohort/Images/Raw/CMB-BRCA/CMB-BRCA_MSB-04856_MSB-04856-01-02.svs'),\n",
       " WindowsPath('E:/Project/External Cohort/Images/Raw/CMB-BRCA/CMB-BRCA_MSB-05650_MSB-05650-01-02.svs'),\n",
       " WindowsPath('E:/Project/External Cohort/Images/Raw/CMB-BRCA/CMB-BRCA_MSB-05960_MSB-05960-01-01.svs'),\n",
       " WindowsPath('E:/Project/External Cohort/Images/Raw/CMB-BRCA/CMB-BRCA_MSB-06586_MSB-06586-03-01.svs')]"
      ]
     },
     "execution_count": 2,
     "metadata": {},
     "output_type": "execute_result"
    }
   ],
   "execution_count": 2
  },
  {
   "metadata": {
    "ExecuteTime": {
     "end_time": "2024-11-26T21:24:52.054784Z",
     "start_time": "2024-11-26T21:24:52.048753Z"
    }
   },
   "cell_type": "code",
   "source": [
    "# this is TCGA abbreviation\n",
    "TCGA_dict = {\n",
    "    'BLCA': 0,  # none\n",
    "    'BRCA': 1,  # CMB-BRCA\n",
    "    'CESC': 2,  # none\n",
    "    'COAD': 3,  # CPTAC-COAD\n",
    "    'LUAD': 4,  # CPTAC-LUAD\n",
    "    'LUSC': 5,  # CPTAC-LSCC\n",
    "    'PRAD': 6,  # CMB-PCA\n",
    "    'SKCM': 7,  # CPTAC-CM\n",
    "    'STAD': 8,  # none\n",
    "    'UCEC': 9   # CPTAC-UCEC\n",
    "}\n",
    "# converter function >> converts file name to labels\n",
    "def converter(filename):\n",
    "    match filename:\n",
    "        case _ if 'CMB-BRCA' in filename:\n",
    "            output = 'BRCA'\n",
    "        case _ if 'CMB-PCA' in filename:\n",
    "            output = 'PRAD'\n",
    "        case _ if 'CPTAC-CM' in filename:\n",
    "            output = 'SKCM'\n",
    "        case _ if 'CPTAC-COAD' in filename:\n",
    "            output = 'COAD'\n",
    "        case _ if 'CPTAC-LSCC' in filename:\n",
    "            output = 'LUSC'\n",
    "        case _ if 'CPTAC-LUAD' in filename:\n",
    "            output = 'LUAD'\n",
    "        case _ if 'CPTAC-UCEC' in filename:\n",
    "            output = 'UCEC'\n",
    "        case _:\n",
    "            print(f\"{filename} is not properly translated, appending NULL.\")\n",
    "            output = 'NULL'\n",
    "\n",
    "    return output\n",
    "\n",
    "# function to create pd.df from a list of Path objects\n",
    "def df_paths(paths_list: [Path]):\n",
    "    file_list = []\n",
    "    labels = []\n",
    "    indices = []\n",
    "\n",
    "    for svs in paths_list:\n",
    "        filename = svs.stem\n",
    "        label = converter(svs.stem)\n",
    "        index = TCGA_dict[label]\n",
    "\n",
    "        file_list.append(filename)\n",
    "        labels.append(label)\n",
    "        indices.append(index)\n",
    "\n",
    "    df = pd.DataFrame({'sample': file_list,\n",
    "         'label': labels,\n",
    "         'index': indices},\n",
    "    )\n",
    "\n",
    "    return df\n"
   ],
   "id": "2861701d3443b485",
   "outputs": [],
   "execution_count": 3
  },
  {
   "metadata": {
    "ExecuteTime": {
     "end_time": "2024-11-26T21:24:52.082931Z",
     "start_time": "2024-11-26T21:24:52.063193Z"
    }
   },
   "cell_type": "code",
   "source": [
    "# this block will create the csv file.\n",
    "class_df = df_paths(svs_paths)\n",
    "Path(csv_path).parent.mkdir(parents=True, exist_ok=True)\n",
    "class_df.to_csv(csv_path, index=False, header=False, sep=' ')\n",
    "\n",
    "# show head of df\n",
    "class_df.head(10)"
   ],
   "id": "ca7fb6fe4e7fab36",
   "outputs": [
    {
     "data": {
      "text/plain": [
       "                               sample label  index\n",
       "0  CMB-BRCA_MSB-00156_MSB-00156-01-05  BRCA      1\n",
       "1  CMB-BRCA_MSB-00587_MSB-00587-01-01  BRCA      1\n",
       "2  CMB-BRCA_MSB-01798_MSB-01798-02-02  BRCA      1\n",
       "3  CMB-BRCA_MSB-02137_MSB-02137-01-02  BRCA      1\n",
       "4  CMB-BRCA_MSB-02664_MSB-02664-01-05  BRCA      1\n",
       "5  CMB-BRCA_MSB-02664_MSB-02664-01-10  BRCA      1\n",
       "6  CMB-BRCA_MSB-04856_MSB-04856-01-02  BRCA      1\n",
       "7  CMB-BRCA_MSB-05650_MSB-05650-01-02  BRCA      1\n",
       "8  CMB-BRCA_MSB-05960_MSB-05960-01-01  BRCA      1\n",
       "9  CMB-BRCA_MSB-06586_MSB-06586-03-01  BRCA      1"
      ],
      "text/html": [
       "<div>\n",
       "<style scoped>\n",
       "    .dataframe tbody tr th:only-of-type {\n",
       "        vertical-align: middle;\n",
       "    }\n",
       "\n",
       "    .dataframe tbody tr th {\n",
       "        vertical-align: top;\n",
       "    }\n",
       "\n",
       "    .dataframe thead th {\n",
       "        text-align: right;\n",
       "    }\n",
       "</style>\n",
       "<table border=\"1\" class=\"dataframe\">\n",
       "  <thead>\n",
       "    <tr style=\"text-align: right;\">\n",
       "      <th></th>\n",
       "      <th>sample</th>\n",
       "      <th>label</th>\n",
       "      <th>index</th>\n",
       "    </tr>\n",
       "  </thead>\n",
       "  <tbody>\n",
       "    <tr>\n",
       "      <th>0</th>\n",
       "      <td>CMB-BRCA_MSB-00156_MSB-00156-01-05</td>\n",
       "      <td>BRCA</td>\n",
       "      <td>1</td>\n",
       "    </tr>\n",
       "    <tr>\n",
       "      <th>1</th>\n",
       "      <td>CMB-BRCA_MSB-00587_MSB-00587-01-01</td>\n",
       "      <td>BRCA</td>\n",
       "      <td>1</td>\n",
       "    </tr>\n",
       "    <tr>\n",
       "      <th>2</th>\n",
       "      <td>CMB-BRCA_MSB-01798_MSB-01798-02-02</td>\n",
       "      <td>BRCA</td>\n",
       "      <td>1</td>\n",
       "    </tr>\n",
       "    <tr>\n",
       "      <th>3</th>\n",
       "      <td>CMB-BRCA_MSB-02137_MSB-02137-01-02</td>\n",
       "      <td>BRCA</td>\n",
       "      <td>1</td>\n",
       "    </tr>\n",
       "    <tr>\n",
       "      <th>4</th>\n",
       "      <td>CMB-BRCA_MSB-02664_MSB-02664-01-05</td>\n",
       "      <td>BRCA</td>\n",
       "      <td>1</td>\n",
       "    </tr>\n",
       "    <tr>\n",
       "      <th>5</th>\n",
       "      <td>CMB-BRCA_MSB-02664_MSB-02664-01-10</td>\n",
       "      <td>BRCA</td>\n",
       "      <td>1</td>\n",
       "    </tr>\n",
       "    <tr>\n",
       "      <th>6</th>\n",
       "      <td>CMB-BRCA_MSB-04856_MSB-04856-01-02</td>\n",
       "      <td>BRCA</td>\n",
       "      <td>1</td>\n",
       "    </tr>\n",
       "    <tr>\n",
       "      <th>7</th>\n",
       "      <td>CMB-BRCA_MSB-05650_MSB-05650-01-02</td>\n",
       "      <td>BRCA</td>\n",
       "      <td>1</td>\n",
       "    </tr>\n",
       "    <tr>\n",
       "      <th>8</th>\n",
       "      <td>CMB-BRCA_MSB-05960_MSB-05960-01-01</td>\n",
       "      <td>BRCA</td>\n",
       "      <td>1</td>\n",
       "    </tr>\n",
       "    <tr>\n",
       "      <th>9</th>\n",
       "      <td>CMB-BRCA_MSB-06586_MSB-06586-03-01</td>\n",
       "      <td>BRCA</td>\n",
       "      <td>1</td>\n",
       "    </tr>\n",
       "  </tbody>\n",
       "</table>\n",
       "</div>"
      ]
     },
     "execution_count": 4,
     "metadata": {},
     "output_type": "execute_result"
    }
   ],
   "execution_count": 4
  },
  {
   "metadata": {
    "ExecuteTime": {
     "end_time": "2024-11-26T21:24:52.116202Z",
     "start_time": "2024-11-26T21:24:52.098318Z"
    }
   },
   "cell_type": "code",
   "source": [
    "# use this block to check the path\n",
    "with open(csv_path, 'r') as f:\n",
    "    read_df = pd.read_csv(f, header=None, sep=' ')\n",
    "\n",
    "read_df"
   ],
   "id": "fa062da1775482cf",
   "outputs": [
    {
     "data": {
      "text/plain": [
       "                                             0\n",
       "0    CMB-BRCA_MSB-00156_MSB-00156-01-05 BRCA 1\n",
       "1    CMB-BRCA_MSB-00587_MSB-00587-01-01 BRCA 1\n",
       "2    CMB-BRCA_MSB-01798_MSB-01798-02-02 BRCA 1\n",
       "3    CMB-BRCA_MSB-02137_MSB-02137-01-02 BRCA 1\n",
       "4    CMB-BRCA_MSB-02664_MSB-02664-01-05 BRCA 1\n",
       "..                                         ...\n",
       "126   CPTAC-UCEC_C3N-01537_C3N-01537-22 UCEC 9\n",
       "127   CPTAC-UCEC_C3N-02027_C3N-02027-23 UCEC 9\n",
       "128   CPTAC-UCEC_C3N-02253_C3N-02253-27 UCEC 9\n",
       "129   CPTAC-UCEC_C3N-02595_C3N-02595-25 UCEC 9\n",
       "130   CPTAC-UCEC_C3N-03044_C3N-03044-25 UCEC 9\n",
       "\n",
       "[131 rows x 1 columns]"
      ],
      "text/html": [
       "<div>\n",
       "<style scoped>\n",
       "    .dataframe tbody tr th:only-of-type {\n",
       "        vertical-align: middle;\n",
       "    }\n",
       "\n",
       "    .dataframe tbody tr th {\n",
       "        vertical-align: top;\n",
       "    }\n",
       "\n",
       "    .dataframe thead th {\n",
       "        text-align: right;\n",
       "    }\n",
       "</style>\n",
       "<table border=\"1\" class=\"dataframe\">\n",
       "  <thead>\n",
       "    <tr style=\"text-align: right;\">\n",
       "      <th></th>\n",
       "      <th>0</th>\n",
       "    </tr>\n",
       "  </thead>\n",
       "  <tbody>\n",
       "    <tr>\n",
       "      <th>0</th>\n",
       "      <td>CMB-BRCA_MSB-00156_MSB-00156-01-05 BRCA 1</td>\n",
       "    </tr>\n",
       "    <tr>\n",
       "      <th>1</th>\n",
       "      <td>CMB-BRCA_MSB-00587_MSB-00587-01-01 BRCA 1</td>\n",
       "    </tr>\n",
       "    <tr>\n",
       "      <th>2</th>\n",
       "      <td>CMB-BRCA_MSB-01798_MSB-01798-02-02 BRCA 1</td>\n",
       "    </tr>\n",
       "    <tr>\n",
       "      <th>3</th>\n",
       "      <td>CMB-BRCA_MSB-02137_MSB-02137-01-02 BRCA 1</td>\n",
       "    </tr>\n",
       "    <tr>\n",
       "      <th>4</th>\n",
       "      <td>CMB-BRCA_MSB-02664_MSB-02664-01-05 BRCA 1</td>\n",
       "    </tr>\n",
       "    <tr>\n",
       "      <th>...</th>\n",
       "      <td>...</td>\n",
       "    </tr>\n",
       "    <tr>\n",
       "      <th>126</th>\n",
       "      <td>CPTAC-UCEC_C3N-01537_C3N-01537-22 UCEC 9</td>\n",
       "    </tr>\n",
       "    <tr>\n",
       "      <th>127</th>\n",
       "      <td>CPTAC-UCEC_C3N-02027_C3N-02027-23 UCEC 9</td>\n",
       "    </tr>\n",
       "    <tr>\n",
       "      <th>128</th>\n",
       "      <td>CPTAC-UCEC_C3N-02253_C3N-02253-27 UCEC 9</td>\n",
       "    </tr>\n",
       "    <tr>\n",
       "      <th>129</th>\n",
       "      <td>CPTAC-UCEC_C3N-02595_C3N-02595-25 UCEC 9</td>\n",
       "    </tr>\n",
       "    <tr>\n",
       "      <th>130</th>\n",
       "      <td>CPTAC-UCEC_C3N-03044_C3N-03044-25 UCEC 9</td>\n",
       "    </tr>\n",
       "  </tbody>\n",
       "</table>\n",
       "<p>131 rows × 1 columns</p>\n",
       "</div>"
      ]
     },
     "execution_count": 5,
     "metadata": {},
     "output_type": "execute_result"
    }
   ],
   "execution_count": 5
  },
  {
   "metadata": {
    "ExecuteTime": {
     "end_time": "2024-11-26T21:24:52.151953Z",
     "start_time": "2024-11-26T21:24:52.149486Z"
    }
   },
   "cell_type": "code",
   "source": "",
   "id": "bca852fd2e9e2989",
   "outputs": [],
   "execution_count": null
  }
 ],
 "metadata": {
  "kernelspec": {
   "display_name": "Python 3",
   "language": "python",
   "name": "python3"
  },
  "language_info": {
   "codemirror_mode": {
    "name": "ipython",
    "version": 2
   },
   "file_extension": ".py",
   "mimetype": "text/x-python",
   "name": "python",
   "nbconvert_exporter": "python",
   "pygments_lexer": "ipython2",
   "version": "2.7.6"
  }
 },
 "nbformat": 4,
 "nbformat_minor": 5
}
