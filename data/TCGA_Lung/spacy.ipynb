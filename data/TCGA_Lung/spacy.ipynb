{
 "cells": [
  {
   "cell_type": "code",
   "id": "initial_id",
   "metadata": {
    "collapsed": true,
    "ExecuteTime": {
     "end_time": "2025-01-26T02:56:47.567303Z",
     "start_time": "2025-01-26T02:56:47.537959Z"
    }
   },
   "source": [
    "# import block\n",
    "import spacy\n",
    "import pandas as pd\n"
   ],
   "outputs": [
    {
     "ename": "OSError",
     "evalue": "dlopen(/Users/muang/PycharmProjects/tumour_deep_learning/LinuxBASH/lib/python3.12/site-packages/torchtext/lib/libtorchtext.so, 0x0006): Symbol not found: __ZN3c105ErrorC1ENSt3__112basic_stringIcNS1_11char_traitsIcEENS1_9allocatorIcEEEES7_PKv\n  Referenced from: <7E3C8144-0701-3505-8587-6E953627B6AF> /Users/muang/PycharmProjects/tumour_deep_learning/LinuxBASH/lib/python3.12/site-packages/torchtext/lib/libtorchtext.so\n  Expected in:     <69A84A04-EB16-3227-9FED-383D2FE98E93> /Users/muang/PycharmProjects/tumour_deep_learning/LinuxBASH/lib/python3.12/site-packages/torch/lib/libc10.dylib",
     "output_type": "error",
     "traceback": [
      "\u001B[0;31m---------------------------------------------------------------------------\u001B[0m",
      "\u001B[0;31mOSError\u001B[0m                                   Traceback (most recent call last)",
      "Cell \u001B[0;32mIn[35], line 4\u001B[0m\n\u001B[1;32m      2\u001B[0m \u001B[38;5;28;01mimport\u001B[39;00m\u001B[38;5;250m \u001B[39m\u001B[38;5;21;01mspacy\u001B[39;00m\n\u001B[1;32m      3\u001B[0m \u001B[38;5;28;01mimport\u001B[39;00m\u001B[38;5;250m \u001B[39m\u001B[38;5;21;01mpandas\u001B[39;00m\u001B[38;5;250m \u001B[39m\u001B[38;5;28;01mas\u001B[39;00m\u001B[38;5;250m \u001B[39m\u001B[38;5;21;01mpd\u001B[39;00m\n\u001B[0;32m----> 4\u001B[0m \u001B[38;5;28;01mimport\u001B[39;00m\u001B[38;5;250m \u001B[39m\u001B[38;5;21;01mtorchtext\u001B[39;00m\n",
      "File \u001B[0;32m~/PycharmProjects/tumour_deep_learning/LinuxBASH/lib/python3.12/site-packages/torchtext/__init__.py:18\u001B[0m\n\u001B[1;32m     15\u001B[0m     _WARN \u001B[38;5;241m=\u001B[39m \u001B[38;5;28;01mFalse\u001B[39;00m\n\u001B[1;32m     17\u001B[0m \u001B[38;5;66;03m# the following import has to happen first in order to load the torchtext C++ library\u001B[39;00m\n\u001B[0;32m---> 18\u001B[0m \u001B[38;5;28;01mfrom\u001B[39;00m\u001B[38;5;250m \u001B[39m\u001B[38;5;21;01mtorchtext\u001B[39;00m\u001B[38;5;250m \u001B[39m\u001B[38;5;28;01mimport\u001B[39;00m _extension  \u001B[38;5;66;03m# noqa: F401\u001B[39;00m\n\u001B[1;32m     20\u001B[0m _TEXT_BUCKET \u001B[38;5;241m=\u001B[39m \u001B[38;5;124m\"\u001B[39m\u001B[38;5;124mhttps://download.pytorch.org/models/text/\u001B[39m\u001B[38;5;124m\"\u001B[39m\n\u001B[1;32m     22\u001B[0m _CACHE_DIR \u001B[38;5;241m=\u001B[39m os\u001B[38;5;241m.\u001B[39mpath\u001B[38;5;241m.\u001B[39mexpanduser(os\u001B[38;5;241m.\u001B[39mpath\u001B[38;5;241m.\u001B[39mjoin(_get_torch_home(), \u001B[38;5;124m\"\u001B[39m\u001B[38;5;124mtext\u001B[39m\u001B[38;5;124m\"\u001B[39m))\n",
      "File \u001B[0;32m~/PycharmProjects/tumour_deep_learning/LinuxBASH/lib/python3.12/site-packages/torchtext/_extension.py:64\u001B[0m\n\u001B[1;32m     59\u001B[0m     \u001B[38;5;66;03m# This import is for initializing the methods registered via PyBind11\u001B[39;00m\n\u001B[1;32m     60\u001B[0m     \u001B[38;5;66;03m# This has to happen after the base library is loaded\u001B[39;00m\n\u001B[1;32m     61\u001B[0m     \u001B[38;5;28;01mfrom\u001B[39;00m\u001B[38;5;250m \u001B[39m\u001B[38;5;21;01mtorchtext\u001B[39;00m\u001B[38;5;250m \u001B[39m\u001B[38;5;28;01mimport\u001B[39;00m _torchtext  \u001B[38;5;66;03m# noqa\u001B[39;00m\n\u001B[0;32m---> 64\u001B[0m \u001B[43m_init_extension\u001B[49m\u001B[43m(\u001B[49m\u001B[43m)\u001B[49m\n",
      "File \u001B[0;32m~/PycharmProjects/tumour_deep_learning/LinuxBASH/lib/python3.12/site-packages/torchtext/_extension.py:58\u001B[0m, in \u001B[0;36m_init_extension\u001B[0;34m()\u001B[0m\n\u001B[1;32m     55\u001B[0m \u001B[38;5;28;01mif\u001B[39;00m \u001B[38;5;129;01mnot\u001B[39;00m _mod_utils\u001B[38;5;241m.\u001B[39mis_module_available(\u001B[38;5;124m\"\u001B[39m\u001B[38;5;124mtorchtext._torchtext\u001B[39m\u001B[38;5;124m\"\u001B[39m):\n\u001B[1;32m     56\u001B[0m     \u001B[38;5;28;01mraise\u001B[39;00m \u001B[38;5;167;01mImportError\u001B[39;00m(\u001B[38;5;124m\"\u001B[39m\u001B[38;5;124mtorchtext C++ Extension is not found.\u001B[39m\u001B[38;5;124m\"\u001B[39m)\n\u001B[0;32m---> 58\u001B[0m \u001B[43m_load_lib\u001B[49m\u001B[43m(\u001B[49m\u001B[38;5;124;43m\"\u001B[39;49m\u001B[38;5;124;43mlibtorchtext\u001B[39;49m\u001B[38;5;124;43m\"\u001B[39;49m\u001B[43m)\u001B[49m\n\u001B[1;32m     59\u001B[0m \u001B[38;5;66;03m# This import is for initializing the methods registered via PyBind11\u001B[39;00m\n\u001B[1;32m     60\u001B[0m \u001B[38;5;66;03m# This has to happen after the base library is loaded\u001B[39;00m\n\u001B[1;32m     61\u001B[0m \u001B[38;5;28;01mfrom\u001B[39;00m\u001B[38;5;250m \u001B[39m\u001B[38;5;21;01mtorchtext\u001B[39;00m\u001B[38;5;250m \u001B[39m\u001B[38;5;28;01mimport\u001B[39;00m _torchtext\n",
      "File \u001B[0;32m~/PycharmProjects/tumour_deep_learning/LinuxBASH/lib/python3.12/site-packages/torchtext/_extension.py:50\u001B[0m, in \u001B[0;36m_load_lib\u001B[0;34m(lib)\u001B[0m\n\u001B[1;32m     48\u001B[0m \u001B[38;5;28;01mif\u001B[39;00m \u001B[38;5;129;01mnot\u001B[39;00m path\u001B[38;5;241m.\u001B[39mexists():\n\u001B[1;32m     49\u001B[0m     \u001B[38;5;28;01mreturn\u001B[39;00m \u001B[38;5;28;01mFalse\u001B[39;00m\n\u001B[0;32m---> 50\u001B[0m \u001B[43mtorch\u001B[49m\u001B[38;5;241;43m.\u001B[39;49m\u001B[43mops\u001B[49m\u001B[38;5;241;43m.\u001B[39;49m\u001B[43mload_library\u001B[49m\u001B[43m(\u001B[49m\u001B[43mpath\u001B[49m\u001B[43m)\u001B[49m\n\u001B[1;32m     51\u001B[0m \u001B[38;5;28;01mreturn\u001B[39;00m \u001B[38;5;28;01mTrue\u001B[39;00m\n",
      "File \u001B[0;32m~/PycharmProjects/tumour_deep_learning/LinuxBASH/lib/python3.12/site-packages/torch/_ops.py:1295\u001B[0m, in \u001B[0;36m_Ops.load_library\u001B[0;34m(self, path)\u001B[0m\n\u001B[1;32m   1290\u001B[0m path \u001B[38;5;241m=\u001B[39m _utils_internal\u001B[38;5;241m.\u001B[39mresolve_library_path(path)\n\u001B[1;32m   1291\u001B[0m \u001B[38;5;28;01mwith\u001B[39;00m dl_open_guard():\n\u001B[1;32m   1292\u001B[0m     \u001B[38;5;66;03m# Import the shared library into the process, thus running its\u001B[39;00m\n\u001B[1;32m   1293\u001B[0m     \u001B[38;5;66;03m# static (global) initialization code in order to register custom\u001B[39;00m\n\u001B[1;32m   1294\u001B[0m     \u001B[38;5;66;03m# operators with the JIT.\u001B[39;00m\n\u001B[0;32m-> 1295\u001B[0m     \u001B[43mctypes\u001B[49m\u001B[38;5;241;43m.\u001B[39;49m\u001B[43mCDLL\u001B[49m\u001B[43m(\u001B[49m\u001B[43mpath\u001B[49m\u001B[43m)\u001B[49m\n\u001B[1;32m   1296\u001B[0m \u001B[38;5;28mself\u001B[39m\u001B[38;5;241m.\u001B[39mloaded_libraries\u001B[38;5;241m.\u001B[39madd(path)\n",
      "File \u001B[0;32m/Library/Frameworks/Python.framework/Versions/3.12/lib/python3.12/ctypes/__init__.py:379\u001B[0m, in \u001B[0;36mCDLL.__init__\u001B[0;34m(self, name, mode, handle, use_errno, use_last_error, winmode)\u001B[0m\n\u001B[1;32m    376\u001B[0m \u001B[38;5;28mself\u001B[39m\u001B[38;5;241m.\u001B[39m_FuncPtr \u001B[38;5;241m=\u001B[39m _FuncPtr\n\u001B[1;32m    378\u001B[0m \u001B[38;5;28;01mif\u001B[39;00m handle \u001B[38;5;129;01mis\u001B[39;00m \u001B[38;5;28;01mNone\u001B[39;00m:\n\u001B[0;32m--> 379\u001B[0m     \u001B[38;5;28mself\u001B[39m\u001B[38;5;241m.\u001B[39m_handle \u001B[38;5;241m=\u001B[39m \u001B[43m_dlopen\u001B[49m\u001B[43m(\u001B[49m\u001B[38;5;28;43mself\u001B[39;49m\u001B[38;5;241;43m.\u001B[39;49m\u001B[43m_name\u001B[49m\u001B[43m,\u001B[49m\u001B[43m \u001B[49m\u001B[43mmode\u001B[49m\u001B[43m)\u001B[49m\n\u001B[1;32m    380\u001B[0m \u001B[38;5;28;01melse\u001B[39;00m:\n\u001B[1;32m    381\u001B[0m     \u001B[38;5;28mself\u001B[39m\u001B[38;5;241m.\u001B[39m_handle \u001B[38;5;241m=\u001B[39m handle\n",
      "\u001B[0;31mOSError\u001B[0m: dlopen(/Users/muang/PycharmProjects/tumour_deep_learning/LinuxBASH/lib/python3.12/site-packages/torchtext/lib/libtorchtext.so, 0x0006): Symbol not found: __ZN3c105ErrorC1ENSt3__112basic_stringIcNS1_11char_traitsIcEENS1_9allocatorIcEEEES7_PKv\n  Referenced from: <7E3C8144-0701-3505-8587-6E953627B6AF> /Users/muang/PycharmProjects/tumour_deep_learning/LinuxBASH/lib/python3.12/site-packages/torchtext/lib/libtorchtext.so\n  Expected in:     <69A84A04-EB16-3227-9FED-383D2FE98E93> /Users/muang/PycharmProjects/tumour_deep_learning/LinuxBASH/lib/python3.12/site-packages/torch/lib/libc10.dylib"
     ]
    }
   ],
   "execution_count": 35
  },
  {
   "metadata": {
    "ExecuteTime": {
     "end_time": "2025-01-26T02:31:05.432102Z",
     "start_time": "2025-01-26T02:31:05.427742Z"
    }
   },
   "cell_type": "code",
   "source": [
    "# load the consensus text\n",
    "consensus_df = pd.read_csv('consensus.csv')\n",
    "consensus_df.head(5)\n",
    "consensus = consensus_df['consensus']"
   ],
   "id": "e8659685a6632330",
   "outputs": [],
   "execution_count": 31
  },
  {
   "metadata": {
    "ExecuteTime": {
     "end_time": "2025-01-26T02:31:07.345280Z",
     "start_time": "2025-01-26T02:31:06.256888Z"
    }
   },
   "cell_type": "code",
   "source": "nlp = spacy.load('en_core_web_md')\n",
   "id": "50767a96f07d3aa5",
   "outputs": [],
   "execution_count": 32
  },
  {
   "metadata": {
    "ExecuteTime": {
     "end_time": "2025-01-26T02:31:08.178166Z",
     "start_time": "2025-01-26T02:31:08.105013Z"
    }
   },
   "cell_type": "code",
   "source": [
    "# try the first one\n",
    "consensus_list = consensus.tolist()\n",
    "for c, cons in enumerate(consensus_list):\n",
    "    doc = nlp(cons)\n",
    "    print(f'{c}:', [(w.text, w.pos_, w.has_vector) for w in doc])"
   ],
   "id": "efde66e574c012f9",
   "outputs": [
    {
     "name": "stdout",
     "output_type": "stream",
     "text": [
      "0: [('Acinar', 'PROPN', False), ('pattern', 'NOUN', True), ('adenocarcinoma', 'NOUN', True), (',', 'PUNCT', True), ('with', 'ADP', True), ('inflamed', 'ADJ', True), ('irregular', 'ADJ', True), ('acini', 'NOUN', False), ('and', 'CCONJ', True), ('tissue', 'NOUN', True), ('destruction', 'NOUN', True), ('.', 'PUNCT', True)]\n",
      "1: [('Inflamed', 'ADJ', True), ('compact', 'ADJ', True), ('stroma', 'NOUN', True), ('and', 'CCONJ', True), ('sparse', 'ADJ', True), ('tumor', 'NOUN', True), ('.', 'PUNCT', True), ('Sheets', 'NOUN', True), ('of', 'ADP', True), ('inflammation', 'NOUN', True), ('with', 'ADP', True), ('destruction', 'NOUN', True), ('.', 'PUNCT', True)]\n",
      "2: [('Compressed', 'ADJ', True), ('normal', 'ADJ', True), ('lung', 'NOUN', True), ('and', 'CCONJ', True), ('haemorrhaging', 'VERB', True), ('smaller', 'ADJ', True), ('airways', 'NOUN', True), ('or', 'CCONJ', True), ('vessels', 'NOUN', True)]\n",
      "3: [('Coarse', 'ADJ', True), ('fibrillar', 'NOUN', False), ('stroma', 'NOUN', True)]\n",
      "4: [('Open', 'VERB', True), ('normal', 'ADJ', True), ('lung', 'NOUN', True), ('with', 'ADP', True), ('interluminal', 'ADJ', False), ('debris', 'NOUN', True), ('or', 'CCONJ', True), ('small', 'ADJ', True), ('vessels', 'NOUN', True), ('.', 'PUNCT', True)]\n",
      "5: [('Solid', 'ADJ', True), ('pattern', 'NOUN', True), ('adenocarcinoma', 'NOUN', True), ('with', 'ADP', True), ('stromal', 'ADJ', True), ('TILs', 'NOUN', True), ('.', 'PUNCT', True), ('Inflamed', 'ADJ', True), ('stroma', 'NOUN', True), ('.', 'PUNCT', True), ('Big', 'ADJ', True), ('pleomorphic', 'ADJ', True), ('nuclei', 'NOUN', True), ('.', 'PUNCT', True)]\n",
      "6: [('Adenocarcinoma', 'NOUN', False), ('with', 'ADP', True), ('solid', 'ADJ', True), ('and', 'CCONJ', True), ('sieve', 'NOUN', True), ('-', 'PUNCT', True), ('like', 'ADJ', True), ('complex', 'ADJ', True), ('cribriform', 'ADJ', False), ('appearance', 'NOUN', True), ('.', 'PUNCT', True)]\n",
      "7: [('Stroma', 'ADJ', False), ('-', 'PUNCT', True), ('rich', 'ADJ', True), ('solid', 'ADJ', True), ('.', 'PUNCT', True)]\n",
      "8: [('Acinar', 'PROPN', False), ('pattern', 'NOUN', True), ('adenocarcinoma', 'NOUN', True), (',', 'PUNCT', True), ('showing', 'VERB', True), ('angulated', 'ADJ', True), ('columnar', 'ADJ', True), ('acini', 'NOUN', False), ('with', 'ADP', True), ('multiple', 'ADJ', True), ('small', 'ADJ', True), ('branched', 'ADJ', True), ('lumina', 'NOUN', True), ('.', 'PUNCT', True)]\n",
      "9: [('Diverse', 'ADJ', True), ('inflamed', 'ADJ', True), ('stroma', 'NOUN', True), ('with', 'ADP', True), ('sparse', 'ADJ', True), ('malignant', 'ADJ', True), ('epithelium', 'NOUN', True), ('.', 'PUNCT', True)]\n",
      "10: [('Haemorrhagic', 'PROPN', False), ('lung', 'NOUN', True), ('.', 'PUNCT', True)]\n",
      "11: [('Adenocarcinoma', 'PROPN', False), (',', 'PUNCT', True), ('showing', 'VERB', True), ('discohesive', 'NOUN', False), ('solid', 'ADJ', True), ('and', 'CCONJ', True), ('compressed', 'ADJ', True), ('lumina', 'NOUN', True), ('or', 'CCONJ', True), ('linear', 'ADJ', True), ('clefts', 'NOUN', True), ('.', 'PUNCT', True)]\n",
      "12: [('Lambertosis', 'NOUN', False), ('and', 'CCONJ', True), ('inflammation', 'NOUN', True), ('.', 'PUNCT', True)]\n",
      "13: [('Normal', 'ADJ', True), ('open', 'ADJ', True), ('lung', 'NOUN', True), ('with', 'ADP', True), ('mild', 'ADJ', True), ('interstitial', 'ADJ', True), ('thickening', 'NOUN', True), ('and', 'CCONJ', True), ('inflammation', 'NOUN', True)]\n",
      "14: [('Necrosis', 'NOUN', True)]\n",
      "15: [('Solid', 'ADJ', True), ('pattern', 'NOUN', True), ('high', 'ADJ', True), ('-', 'PUNCT', True), ('grade', 'NOUN', True), ('adenocarcinoma', 'NOUN', True), ('with', 'ADP', True), ('necrosis', 'NOUN', True), ('.', 'PUNCT', True), ('Patchily', 'ADV', True), ('inflamed', 'ADJ', True), ('stroma', 'NOUN', True), ('.', 'PUNCT', True)]\n",
      "16: [('Inflamed', 'ADJ', True), ('elastosis', 'NOUN', False), ('or', 'CCONJ', True), ('collapsed', 'VERB', True), ('stroma', 'NOUN', True), ('with', 'ADP', True), ('minimal', 'ADJ', True), ('epithelium', 'NOUN', True), ('.', 'PUNCT', True)]\n",
      "17: [('Surface', 'NOUN', True), ('and', 'CCONJ', True), ('margin', 'NOUN', True), ('artefacts', 'NOUN', True), ('.', 'PUNCT', True)]\n",
      "18: [('Cribrifrom', 'PROPN', False), ('pattern', 'NOUN', True), ('adenocarcinoma', 'NOUN', True), (',', 'PUNCT', True), ('with', 'ADP', True), ('complex', 'ADJ', True), ('acinar', 'NOUN', False), ('or', 'CCONJ', True), ('cribriform', 'VERB', False), ('nests', 'NOUN', True), ('.', 'PUNCT', True), ('Mucinous', 'ADJ', False), ('cytology', 'NOUN', True), ('.', 'PUNCT', True)]\n",
      "19: [('Mucinous', 'ADJ', False), ('adenocarcinoma', 'NOUN', True), ('with', 'ADP', True), ('lepidic', 'ADJ', False), ('pattern', 'NOUN', True), ('.', 'PUNCT', True)]\n",
      "20: [('Peribronchial', 'ADJ', False), ('fat', 'NOUN', True), ('or', 'CCONJ', True), ('glands', 'NOUN', True), ('.', 'PUNCT', True), ('Honeycomb', 'PROPN', True), ('appearance', 'NOUN', True), ('.', 'PUNCT', True)]\n",
      "21: [('Acinar', 'PROPN', False), ('pattern', 'NOUN', True), ('adenocarcinoma', 'NOUN', True), (',', 'PUNCT', True), ('showing', 'VERB', True), ('multiple', 'ADJ', True), ('compressed', 'ADJ', True), ('narrow', 'ADJ', True), ('lumina', 'NOUN', True), ('.', 'PUNCT', True)]\n",
      "22: [('Large', 'ADJ', True), ('vessel', 'NOUN', True), ('lumina', 'NOUN', True), ('.', 'PUNCT', True)]\n",
      "23: [('Large', 'ADJ', True), ('vessel', 'NOUN', True), ('walls', 'NOUN', True), ('.', 'PUNCT', True)]\n",
      "24: [('Mucinous', 'ADJ', False), ('adenocarcinoma', 'NOUN', True), (',', 'PUNCT', True), ('showing', 'VERB', True), ('mucin', 'NOUN', True), ('lakes', 'NOUN', True), ('.', 'PUNCT', True)]\n",
      "25: [('high', 'ADJ', True), ('-', 'PUNCT', True), ('grade', 'NOUN', True), ('solid', 'ADJ', True), ('pattern', 'NOUN', True), ('adenocarcinoma', 'NOUN', True), (',', 'PUNCT', True), ('inflamed', 'VERB', True), ('.', 'PUNCT', True)]\n",
      "26: [('Acinar', 'PROPN', False), ('pattern', 'NOUN', True), ('adenocarcinoma', 'NOUN', True), (',', 'PUNCT', True), ('with', 'ADP', True), ('small', 'ADJ', True), ('angulated', 'ADJ', True), ('acini', 'NOUN', False), ('in', 'ADP', True), ('dense', 'ADJ', True), ('cold', 'ADJ', True), ('stroma', 'NOUN', True), ('.', 'PUNCT', True)]\n",
      "27: [('Micropapillary', 'NOUN', False), ('pattern', 'NOUN', True), ('adenocarcinoma', 'NOUN', True), (',', 'PUNCT', True), ('showing', 'VERB', True), ('small', 'ADJ', True), ('discohesive', 'ADJ', False), ('nests', 'NOUN', True), ('.', 'PUNCT', True)]\n",
      "28: [('Lepidic', 'ADJ', False), ('pattern', 'NOUN', True), ('adenocarcinoma', 'NOUN', True), (',', 'PUNCT', True), ('with', 'ADP', True), ('papillary', 'ADJ', True), ('growth', 'NOUN', True), ('.', 'PUNCT', True)]\n",
      "29: [('Solid', 'ADJ', True), ('pattern', 'NOUN', True), ('adenocarcinoma', 'NOUN', True), ('with', 'ADP', True), ('some', 'DET', True), ('discohesion', 'NOUN', False), ('overrun', 'VERB', True), ('by', 'ADP', True), ('TILs', 'NOUN', True), ('.', 'PUNCT', True)]\n",
      "30: [('Papillary', 'ADJ', False), ('pattern', 'NOUN', True), ('adenocarcinoma', 'NOUN', True), ('often', 'ADV', True), ('with', 'ADP', True), ('mucin', 'NOUN', True), (',', 'PUNCT', True), ('showing', 'VERB', True), ('dispersed', 'ADJ', True), ('micropapillae', 'NOUN', False), ('.', 'PUNCT', True)]\n",
      "31: [('Elastotic', 'ADJ', False), ('vessels', 'NOUN', True), ('.', 'PUNCT', True)]\n",
      "32: [('Mildly', 'ADV', True), ('fibrotic', 'ADJ', True), ('lung', 'NOUN', True)]\n",
      "33: [('Adenocarcinoma', 'PROPN', False), (',', 'PUNCT', True), ('with', 'ADP', True), ('small', 'ADJ', True), ('nests', 'NOUN', True), ('and', 'CCONJ', True), ('narrow', 'ADJ', True), ('clefts', 'NOUN', True), ('with', 'ADP', True), ('retraction', 'NOUN', True), ('artifact', 'NOUN', True)]\n",
      "34: [('Dense', 'ADJ', True), ('inflamed', 'ADJ', True), ('collagen', 'NOUN', True)]\n",
      "35: [('Micropapillary', 'NOUN', False), ('pattern', 'NOUN', True), ('adenocarcinoma', 'NOUN', True), (',', 'PUNCT', True), ('or', 'CCONJ', True), ('tufted', 'ADJ', True)]\n",
      "36: [('Inflammatory', 'ADJ', True), ('or', 'CCONJ', True), ('reactive', 'ADJ', True), ('lung', 'NOUN', True), ('with', 'ADP', True), ('interstitial', 'ADJ', True), ('expansion', 'NOUN', True)]\n",
      "37: [('Lepidic', 'ADJ', False), ('pattern', 'NOUN', True), ('adenocarcinoma', 'NOUN', True), (',', 'PUNCT', True), ('with', 'ADP', True), ('acinar', 'NOUN', False), ('and', 'CCONJ', True), ('papillary', 'ADJ', True), ('growth', 'NOUN', True), ('.', 'PUNCT', True), ('Ragged', 'ADJ', True), ('complex', 'ADJ', True), ('appearances', 'NOUN', True), ('.', 'PUNCT', True)]\n",
      "38: [('Mostly', 'ADV', True), ('solid', 'ADJ', True), ('adenocarcinoma', 'NOUN', True), ('with', 'ADP', True), ('clear', 'ADJ', True), ('-', 'PUNCT', True), ('cell', 'NOUN', True), ('change', 'NOUN', True), ('and', 'CCONJ', True), ('inflammation', 'NOUN', True)]\n",
      "39: [('Adenocarcinoma', 'NOUN', False), ('with', 'ADP', True), ('crowded', 'ADJ', True), ('discohesive', 'ADJ', False), ('nests', 'NOUN', True), ('appearance', 'NOUN', True)]\n",
      "40: [('Bronchial', 'ADJ', True), ('epithelium', 'NOUN', True)]\n",
      "41: [('Adenocarcinoma', 'NOUN', False), ('with', 'ADP', True), ('dense', 'ADJ', True), ('stroma', 'NOUN', True), ('and', 'CCONJ', True), ('small', 'ADJ', True), ('malignant', 'ADJ', True), ('nests', 'NOUN', True)]\n",
      "42: [('Cartilage', 'NOUN', True)]\n",
      "43: [('Confluent', 'NOUN', False), ('lymphocytes', 'NOUN', True), ('.', 'PUNCT', True), ('Sheet', 'PROPN', True), ('of', 'ADP', True), ('inflammation', 'NOUN', True), ('.', 'PUNCT', True)]\n",
      "44: [('Linear', 'ADJ', True), ('dark', 'NOUN', True), ('folds', 'NOUN', True)]\n",
      "45: [('Classical', 'ADJ', True), ('cribriform', 'NOUN', False), ('adenocarcinoma', 'NOUN', True)]\n"
     ]
    }
   ],
   "execution_count": 33
  },
  {
   "metadata": {},
   "cell_type": "markdown",
   "source": "## Building the vocabulary for the consensus",
   "id": "950550007982bada"
  },
  {
   "metadata": {},
   "cell_type": "code",
   "outputs": [],
   "execution_count": null,
   "source": [
    "def build_vocab(consensus_list):\n",
    "    "
   ],
   "id": "3102b3d4896faa42"
  }
 ],
 "metadata": {
  "kernelspec": {
   "display_name": "Python 3",
   "language": "python",
   "name": "python3"
  },
  "language_info": {
   "codemirror_mode": {
    "name": "ipython",
    "version": 2
   },
   "file_extension": ".py",
   "mimetype": "text/x-python",
   "name": "python",
   "nbconvert_exporter": "python",
   "pygments_lexer": "ipython2",
   "version": "2.7.6"
  }
 },
 "nbformat": 4,
 "nbformat_minor": 5
}
