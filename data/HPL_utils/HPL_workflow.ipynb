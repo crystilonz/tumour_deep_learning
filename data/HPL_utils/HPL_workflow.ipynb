{
 "cells": [
  {
   "metadata": {},
   "cell_type": "markdown",
   "source": [
    "# HPL Commands\n",
    "\n",
    "This notebook is a collection of commands used to assign an external cohort with existing leiden clusters.\n",
    "\n",
    "This notebook is meant to be used to the output from deepPATH. See notebooks in `./src/deeppath_utils`."
   ],
   "id": "1ce6d0258516c1f9"
  },
  {
   "cell_type": "code",
   "execution_count": null,
   "id": "initial_id",
   "metadata": {
    "collapsed": true
   },
   "outputs": [],
   "source": [
    "'''\n",
    "Projection of tile images to n=1024 vector.\n",
    "\n",
    "Files needed:\n",
    "-   external hdf5 cohort file from deepPATH\n",
    "-   pre-trained self-supervised model (Barlow Twins) checkpoints\n",
    "-   the original dataset: training, validation, and testing hdf5 files\n",
    "'''\n",
    "\n",
    "# NOTE: This was run using Python 3.7, as this step depends on removed feature in tensorflow 2.0 onwards.\n",
    "! python ./run_representationspathology_projection.py  --dataset v07_10panCancer_5x --checkpoint ./data_model_output/BarlowTwins_3/h224_w224_n3_zdim128/checkpoints/BarlowTwins_3.ckt --real_hdf5 ./datasets/EXT/he/patches_h224_w224/hdf5_EXT_he_combined.h5 --model BarlowTwins_3\n"
   ]
  },
  {
   "metadata": {},
   "cell_type": "code",
   "outputs": [],
   "execution_count": null,
   "source": [
    "'''\n",
    "Perform clustering on external cohort to existing clusters.\n",
    "\n",
    "Files needed:\n",
    "-   hdf5 file from the box above, containing the size-1024 vectors\n",
    "-   pickle file for PanCancer. This is found at `./utilities/files/Multi-Cancer/tcga_v07_10panCancer.pkl` in HPL repository.\n",
    "-   h5ad file containing adatas in the appropriate directory\n",
    "'''\n",
    "\n",
    "# NOTE: This was run using Python 3.8, as this step requires features available only in Python 3.8 onwards. This step is compatible with tensorflow 2.0.\n",
    "\n",
    "! python ./run_representationsleiden_assignment.py --resolution 2.0 --meta_field removal --folds_pickle ./utilities/files/Multi-Cancer/tcga_v07_10panCancer.pkl --h5_complete_path ./results/BarlowTwins_3/v07_10panCancer_5x/h224_w224_n3_zdim128/hdf5_v07_10panCancer_5x_he_complete_os2_filtered_6cl.h5 --h5_additional_path ./results/BarlowTwins_3/v07_10panCancer_5x/h224_w224_n3_zdim128/hdf5_EXT_he_combined.h5"
   ],
   "id": "bbff354e4e09a4a0"
  },
  {
   "metadata": {},
   "cell_type": "markdown",
   "source": "After the steps above you should get a csv file containing each tile and its leiden cluster number. There should be 34 clusters (0 - 34) in total.",
   "id": "c6b5c979ab2ab598"
  },
  {
   "metadata": {},
   "cell_type": "code",
   "outputs": [],
   "execution_count": null,
   "source": "",
   "id": "49c92619915e9c49"
  },
  {
   "metadata": {},
   "cell_type": "markdown",
   "source": "### GTEX",
   "id": "15b9d2e87a422e5d"
  },
  {
   "metadata": {},
   "cell_type": "code",
   "outputs": [],
   "execution_count": null,
   "source": "! python ./run_representationspathology_projection.py  --dataset v07_10panCancer_5x --checkpoint ./data_model_output/BarlowTwins_3/h224_w224_n3_zdim128/checkpoints/BarlowTwins_3.ckt --real_hdf5 ./datasets/GTEX/he/patches_h224_w224/hdf5_GTEX_he_combined.h5 --model BarlowTwins_3\n",
   "id": "76e73196f40cfef2"
  },
  {
   "metadata": {},
   "cell_type": "code",
   "outputs": [],
   "execution_count": null,
   "source": "! python ./run_representationsleiden_assignment.py --resolution 2.0 --meta_field removal --folds_pickle ./utilities/files/Multi-Cancer/tcga_v07_10panCancer.pkl --h5_complete_path ./results/BarlowTwins_3/v07_10panCancer_5x/h224_w224_n3_zdim128/hdf5_v07_10panCancer_5x_he_complete_os2_filtered_6cl.h5 --h5_additional_path ./results/BarlowTwins_3/v07_10panCancer_5x/h224_w224_n3_zdim128/hdf5_GTEX_he_combined.h5",
   "id": "d5a7fed3226d7cee"
  },
  {
   "metadata": {},
   "cell_type": "markdown",
   "source": "### Lung",
   "id": "2962b2ed1b7ebbd4"
  },
  {
   "metadata": {},
   "cell_type": "code",
   "outputs": [],
   "execution_count": null,
   "source": "",
   "id": "d7ba5b5e93e78466"
  }
 ],
 "metadata": {
  "kernelspec": {
   "display_name": "Python 3",
   "language": "python",
   "name": "python3"
  },
  "language_info": {
   "codemirror_mode": {
    "name": "ipython",
    "version": 2
   },
   "file_extension": ".py",
   "mimetype": "text/x-python",
   "name": "python",
   "nbconvert_exporter": "python",
   "pygments_lexer": "ipython2",
   "version": "2.7.6"
  }
 },
 "nbformat": 4,
 "nbformat_minor": 5
}
