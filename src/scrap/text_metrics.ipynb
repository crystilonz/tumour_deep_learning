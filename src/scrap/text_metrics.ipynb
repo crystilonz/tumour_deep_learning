{
 "cells": [
  {
   "cell_type": "code",
   "id": "initial_id",
   "metadata": {
    "collapsed": true,
    "ExecuteTime": {
     "end_time": "2025-02-10T22:57:43.063514Z",
     "start_time": "2025-02-10T22:57:41.280060Z"
    }
   },
   "source": [
    "import torch\n",
    "import torchmetrics"
   ],
   "outputs": [],
   "execution_count": 1
  },
  {
   "metadata": {
    "ExecuteTime": {
     "end_time": "2025-02-10T22:57:48.822571Z",
     "start_time": "2025-02-10T22:57:48.809195Z"
    }
   },
   "cell_type": "code",
   "source": [
    "bleu1 = torchmetrics.text.bleu.BLEUScore(n_gram=1)\n",
    "bleu2 = torchmetrics.text.bleu.BLEUScore(n_gram=2,\n",
    "                                         weights=[0.0, 1.0])\n",
    "bleu3 = torchmetrics.text.bleu.BLEUScore(n_gram=3,\n",
    "                                         weights=[0.0, 0.0, 1.0])\n",
    "bleu4 = torchmetrics.text.bleu.BLEUScore(n_gram=4,\n",
    "                                         weights=[0.0, 0.0, 0.0, 1.0])\n",
    "bleu_avg = torchmetrics.text.bleu.BLEUScore(n_gram=4,\n",
    "                                            weights=[0.25, 0.25, 0.25, 0.25])"
   ],
   "id": "4c43198e2e2cd7e9",
   "outputs": [],
   "execution_count": 2
  },
  {
   "metadata": {
    "ExecuteTime": {
     "end_time": "2025-02-10T23:11:49.813327Z",
     "start_time": "2025-02-10T23:11:49.811438Z"
    }
   },
   "cell_type": "code",
   "source": "rouge_metric = lambda pred, target: torchmetrics.functional.text.rouge.rouge_score(pred, target, rouge_keys=('rouge1', 'rouge2', 'rougeL'), normalizer=lambda x: x)",
   "id": "191552a6cd1b4b38",
   "outputs": [],
   "execution_count": 8
  },
  {
   "metadata": {
    "ExecuteTime": {
     "end_time": "2025-02-11T01:22:23.796137Z",
     "start_time": "2025-02-11T01:22:23.793372Z"
    }
   },
   "cell_type": "code",
   "source": [
    "# sentence\n",
    "prediction = \"<SOS> haemorrhage and and inflammation . <EOS>\"\n",
    "reference = \"<SOS> lambertosis and inflammation . <EOS>\"\n",
    "\n",
    "short_pred = \"<SOS> lambertosis and <EOS>\"\n",
    "repeat_pred = \"and and and and and and\"\n",
    "and_pred = \"and\""
   ],
   "id": "e6e6742315255f0e",
   "outputs": [],
   "execution_count": 25
  },
  {
   "metadata": {
    "ExecuteTime": {
     "end_time": "2025-02-10T23:11:51.619988Z",
     "start_time": "2025-02-10T23:11:51.613366Z"
    }
   },
   "cell_type": "code",
   "source": "rouge_metric(prediction, reference)",
   "id": "e24da75ef630d5aa",
   "outputs": [
    {
     "data": {
      "text/plain": [
       "{'rouge1_fmeasure': tensor(0.7692),\n",
       " 'rouge1_precision': tensor(0.7143),\n",
       " 'rouge1_recall': tensor(0.8333),\n",
       " 'rouge2_fmeasure': tensor(0.5455),\n",
       " 'rouge2_precision': tensor(0.5000),\n",
       " 'rouge2_recall': tensor(0.6000),\n",
       " 'rougeL_fmeasure': tensor(0.7692),\n",
       " 'rougeL_precision': tensor(0.7143),\n",
       " 'rougeL_recall': tensor(0.8333)}"
      ]
     },
     "execution_count": 10,
     "metadata": {},
     "output_type": "execute_result"
    }
   ],
   "execution_count": 10
  },
  {
   "metadata": {
    "ExecuteTime": {
     "end_time": "2025-02-10T23:07:40.196698Z",
     "start_time": "2025-02-10T23:07:40.193074Z"
    }
   },
   "cell_type": "code",
   "source": "bleu1([prediction], [[reference]])",
   "id": "379912c387fb16ec",
   "outputs": [
    {
     "data": {
      "text/plain": [
       "tensor(0.7143)"
      ]
     },
     "execution_count": 7,
     "metadata": {},
     "output_type": "execute_result"
    }
   ],
   "execution_count": 7
  },
  {
   "metadata": {
    "ExecuteTime": {
     "end_time": "2025-02-10T23:32:42.562778Z",
     "start_time": "2025-02-10T23:32:42.557656Z"
    }
   },
   "cell_type": "code",
   "source": "rouge_metric(short_pred, reference)",
   "id": "56ffca9ff57b3d06",
   "outputs": [
    {
     "data": {
      "text/plain": [
       "{'rouge1_fmeasure': tensor(0.8000),\n",
       " 'rouge1_precision': tensor(1.),\n",
       " 'rouge1_recall': tensor(0.6667),\n",
       " 'rouge2_fmeasure': tensor(0.5000),\n",
       " 'rouge2_precision': tensor(0.6667),\n",
       " 'rouge2_recall': tensor(0.4000),\n",
       " 'rougeL_fmeasure': tensor(0.8000),\n",
       " 'rougeL_precision': tensor(1.),\n",
       " 'rougeL_recall': tensor(0.6667)}"
      ]
     },
     "execution_count": 17,
     "metadata": {},
     "output_type": "execute_result"
    }
   ],
   "execution_count": 17
  },
  {
   "metadata": {
    "ExecuteTime": {
     "end_time": "2025-02-10T23:33:36.960845Z",
     "start_time": "2025-02-10T23:33:36.956085Z"
    }
   },
   "cell_type": "code",
   "source": "bleu1([short_pred], [[reference]])",
   "id": "46e34ef3163775c3",
   "outputs": [
    {
     "data": {
      "text/plain": [
       "tensor(0.6065)"
      ]
     },
     "execution_count": 18,
     "metadata": {},
     "output_type": "execute_result"
    }
   ],
   "execution_count": 18
  },
  {
   "metadata": {
    "ExecuteTime": {
     "end_time": "2025-02-10T23:36:55.416524Z",
     "start_time": "2025-02-10T23:36:55.406308Z"
    }
   },
   "cell_type": "code",
   "source": [
    "import math\n",
    "math.exp(1-(6/4))"
   ],
   "id": "50502f2e1c0dd3e8",
   "outputs": [
    {
     "data": {
      "text/plain": [
       "0.6065306597126334"
      ]
     },
     "execution_count": 21,
     "metadata": {},
     "output_type": "execute_result"
    }
   ],
   "execution_count": 21
  },
  {
   "metadata": {
    "ExecuteTime": {
     "end_time": "2025-02-11T01:23:43.157477Z",
     "start_time": "2025-02-11T01:23:43.147055Z"
    }
   },
   "cell_type": "code",
   "source": "rouge_metric(repeat_pred, and_pred)",
   "id": "c3805dd68365a1",
   "outputs": [
    {
     "data": {
      "text/plain": [
       "{'rouge1_fmeasure': tensor(0.2857),\n",
       " 'rouge1_precision': tensor(0.1667),\n",
       " 'rouge1_recall': tensor(1.),\n",
       " 'rouge2_fmeasure': tensor(0.),\n",
       " 'rouge2_precision': tensor(0.),\n",
       " 'rouge2_recall': tensor(0.),\n",
       " 'rougeL_fmeasure': tensor(0.2857),\n",
       " 'rougeL_precision': tensor(0.1667),\n",
       " 'rougeL_recall': tensor(1.)}"
      ]
     },
     "execution_count": 27,
     "metadata": {},
     "output_type": "execute_result"
    }
   ],
   "execution_count": 27
  },
  {
   "metadata": {},
   "cell_type": "code",
   "outputs": [],
   "execution_count": null,
   "source": "",
   "id": "28f0162c509f8fee"
  }
 ],
 "metadata": {
  "kernelspec": {
   "display_name": "Python 3",
   "language": "python",
   "name": "python3"
  },
  "language_info": {
   "codemirror_mode": {
    "name": "ipython",
    "version": 2
   },
   "file_extension": ".py",
   "mimetype": "text/x-python",
   "name": "python",
   "nbconvert_exporter": "python",
   "pygments_lexer": "ipython2",
   "version": "2.7.6"
  }
 },
 "nbformat": 4,
 "nbformat_minor": 5
}
