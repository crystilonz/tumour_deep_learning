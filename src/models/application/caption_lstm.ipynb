{
 "cells": [
  {
   "cell_type": "code",
   "id": "initial_id",
   "metadata": {
    "collapsed": true,
    "ExecuteTime": {
     "end_time": "2025-01-29T06:37:32.040303Z",
     "start_time": "2025-01-29T06:37:29.969903Z"
    }
   },
   "source": [
    "# import block\n",
    "from models.application.captioning import CaptionMachine\n",
    "import pandas as pd"
   ],
   "outputs": [],
   "execution_count": 1
  },
  {
   "metadata": {
    "ExecuteTime": {
     "end_time": "2025-01-29T06:37:32.044283Z",
     "start_time": "2025-01-29T06:37:32.042725Z"
    }
   },
   "cell_type": "code",
   "source": [
    "# Model settings\n",
    "INPUT_SIZE = 128    # size of feature vector\n",
    "EMBED_SIZE = 128    # size of embedding vector\n",
    "HIDDEN_SIZE = 128   # size of LSTM hidden state\n",
    "LSTM_STACK = 1      # stack size of LSTM"
   ],
   "id": "88a90741f7609547",
   "outputs": [],
   "execution_count": 2
  },
  {
   "metadata": {
    "ExecuteTime": {
     "end_time": "2025-01-29T06:37:32.105990Z",
     "start_time": "2025-01-29T06:37:32.104469Z"
    }
   },
   "cell_type": "code",
   "source": [
    "# File paths, use absolute path if possible\n",
    "VOCAB_PATH = '/Users/muang/PycharmProjects/tumour_deep_learning/src/saved_models/LSTM/vocabulary.json'\n",
    "CHECKPOINTS_PATH = '/Users/muang/PycharmProjects/tumour_deep_learning/src/saved_models/LSTM/LSTM.pt'\n",
    "DATASET_PATH = '/Users/muang/PycharmProjects/tumour_deep_learning/src/datasets/lung_text/TCGA_Lung_consensus.csv'"
   ],
   "id": "8c98aecb1881cca7",
   "outputs": [],
   "execution_count": 3
  },
  {
   "metadata": {
    "ExecuteTime": {
     "end_time": "2025-01-29T06:37:32.110913Z",
     "start_time": "2025-01-29T06:37:32.109256Z"
    }
   },
   "cell_type": "code",
   "source": [
    "# Dataset metadata\n",
    "FULL_NAME_COL = 'full_names'\n",
    "CONSENSUS_COL = 'consensus'\n",
    "START_VECTOR_IDX = 14\n",
    "VECTOR_SIZE = 128"
   ],
   "id": "8c48beb98312712b",
   "outputs": [],
   "execution_count": 4
  },
  {
   "metadata": {
    "ExecuteTime": {
     "end_time": "2025-01-29T06:37:39.020265Z",
     "start_time": "2025-01-29T06:37:32.114376Z"
    }
   },
   "cell_type": "code",
   "source": [
    "# create the machine\n",
    "caption_machine = CaptionMachine.create_LSTM(input_size=INPUT_SIZE,\n",
    "                                             embed_size=EMBED_SIZE,\n",
    "                                             hidden_size=HIDDEN_SIZE,\n",
    "                                             num_layers=LSTM_STACK,\n",
    "                                             vocab_path=VOCAB_PATH,\n",
    "                                             checkpoints_path=CHECKPOINTS_PATH,\n",
    "                                             dataset_path=DATASET_PATH,\n",
    "                                             dataset_full_name_column_name=FULL_NAME_COL,\n",
    "                                             dataset_consensus_column_name=CONSENSUS_COL,\n",
    "                                             dataset_start_of_vector_index=START_VECTOR_IDX,\n",
    "                                             dataset_vector_length=VECTOR_SIZE)"
   ],
   "id": "9edcc6611cbf5c23",
   "outputs": [],
   "execution_count": 5
  },
  {
   "metadata": {
    "ExecuteTime": {
     "end_time": "2025-01-29T06:37:39.053482Z",
     "start_time": "2025-01-29T06:37:39.033352Z"
    }
   },
   "cell_type": "code",
   "source": [
    "# Try captioning\n",
    "caption_machine.caption_by_name(full_name = 'TCGA-55-1594-01Z-00-DX1_28_24.jpeg',\n",
    "                                max_length=50)"
   ],
   "id": "4d019ca655e6de99",
   "outputs": [
    {
     "name": "stdout",
     "output_type": "stream",
     "text": [
      "Sample: TCGA-55-1594-01Z-00-DX1_28_24.jpeg\n",
      "----------------------------------------\n",
      ">>>> Image Captioning <<<<\n",
      "Generated Caption: Necrosis \n",
      "Actual Caption: Necrosis\n"
     ]
    }
   ],
   "execution_count": 6
  },
  {
   "metadata": {
    "ExecuteTime": {
     "end_time": "2025-01-29T06:37:39.120347Z",
     "start_time": "2025-01-29T06:37:39.119005Z"
    }
   },
   "cell_type": "code",
   "source": "",
   "id": "722bb9dab6845946",
   "outputs": [],
   "execution_count": null
  }
 ],
 "metadata": {
  "kernelspec": {
   "display_name": "Python 3",
   "language": "python",
   "name": "python3"
  },
  "language_info": {
   "codemirror_mode": {
    "name": "ipython",
    "version": 2
   },
   "file_extension": ".py",
   "mimetype": "text/x-python",
   "name": "python",
   "nbconvert_exporter": "python",
   "pygments_lexer": "ipython2",
   "version": "2.7.6"
  }
 },
 "nbformat": 4,
 "nbformat_minor": 5
}
